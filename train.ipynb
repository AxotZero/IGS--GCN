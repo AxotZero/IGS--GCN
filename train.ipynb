{
 "cells": [
  {
   "cell_type": "code",
   "execution_count": 60,
   "metadata": {},
   "outputs": [],
   "source": [
    "import pandas as pd\n",
    "import numpy as np\n",
    "import pickle\n",
    "import random\n",
    "import os\n",
    "import time\n",
    "import matplotlib.pyplot as plt\n",
    "from tqdm import tqdm\n",
    "import torch\n",
    "from torch.optim import lr_scheduler\n",
    "import json"
   ]
  },
  {
   "cell_type": "code",
   "execution_count": 66,
   "metadata": {},
   "outputs": [
    {
     "name": "stdout",
     "output_type": "stream",
     "text": [
      "load model and get preprocessing data\n",
      "finish loading\n"
     ]
    }
   ],
   "source": [
    "normalize_column = None\n",
    "normalize_max = None\n",
    "normalize_min = None\n",
    "data_time_range = None\n",
    "input_shape = None\n",
    "\n",
    "def process_config(path):\n",
    "    global model, normalize_column, normalize_max, normalize_min, data_time_range, input_shape\n",
    "    \n",
    "    print(\"load model and get preprocessing data\")\n",
    "    \n",
    "    with open(path) as file:\n",
    "        json_file = json.loads(file.read())[0]\n",
    "    \n",
    "    normalize_column = json_file[\"normalize_column\"]\n",
    "    normalize_max = np.array(json_file[\"normalize_max\"])\n",
    "    normalize_min = np.array(json_file[\"normalize_min\"])\n",
    "    data_time_range = json_file[\"data_time_range\"] * 3600\n",
    "    input_shape = json_file[\"input_shape\"]\n",
    "    \n",
    "    print('finish loading')\n",
    "\n",
    "\n",
    "def get_time_base_test_data(df_list):\n",
    "    x = []\n",
    "    zeros = np.zeros((input_shape[0], input_shape[1]))\n",
    "    normalize_dist = normalize_max - normalize_min\n",
    "    \n",
    "    for d in df_list:\n",
    "        # transform dict to dataframe\n",
    "        d.reset_index(drop=True, inplace=True)\n",
    "        \n",
    "        start_time = d['start_event_time'][0]\n",
    "        for end_index, last_event_time in enumerate(d['last_event_time']):\n",
    "            if (end_index >= (input_shape[0] - 1)) or ((last_event_time - start_time) > data_time_range):\n",
    "                break\n",
    "        \n",
    "        d = d[normalize_column].iloc[: end_index + 1].values\n",
    "        d = (d - normalize_min) / normalize_dist\n",
    "        \n",
    "        temp = zeros.copy()\n",
    "        temp[:d.shape[0]] = d\n",
    "    \n",
    "        x.append(temp)\n",
    "    \n",
    "    return np.array(x)\n",
    "\n",
    "\n",
    "def build_loader(path, target):\n",
    "    data = pickle.load(open(path, 'rb'))\n",
    "    data = get_time_base_test_data(data)\n",
    "    data = torch.FloatTensor(data)\n",
    "    data = data.view(data.shape[0], 1, data.shape[1], data.shape[2])\n",
    "    \n",
    "    data_loader = model.DataLoader(data, torch.LongTensor([target] * len(data)))\n",
    "    loader = Data.DataLoader(\n",
    "        dataset=data_loader,\n",
    "        batch_size=1,\n",
    "        shuffle=False,\n",
    "        num_workers=0\n",
    "    )\n",
    "    return loader\n",
    "\n",
    "def test(data, target, gcn):\n",
    "    \n",
    "    correct_num = 0\n",
    "    total_num = float(len(data))\n",
    "\n",
    "    data_loader = model.DataLoader(data, torch.LongTensor([target] * len(data)))\n",
    "\n",
    "    loader = Data.DataLoader(\n",
    "        dataset=data_loader,\n",
    "        batch_size=MINIBATCH_SIZE,\n",
    "        shuffle=True,\n",
    "        pin_memory = True,\n",
    "        num_workers=0\n",
    "    )\n",
    "    \n",
    "    with torch.no_grad():\n",
    "        for inputs, labels in loader:\n",
    "            # get data\n",
    "            inputs = inputs.to(device)\n",
    "            labels = labels.to(device)\n",
    "\n",
    "            outputs = gcn(inputs)\n",
    "            _, preds = torch.max(outputs, 1)\n",
    "            loss = criterion(outputs, labels)\n",
    "            correct_num += torch.sum(preds == labels.data)\n",
    "            \n",
    "    print('total_num:', total_num)\n",
    "    print('correct_num:', correct_num.item())\n",
    "    print('acc:', correct_num.item() / total_num)\n",
    "        \n",
    "\n",
    "def test_new(loader, test_model):\n",
    "    \n",
    "    total_num = len(loader) \n",
    "    correct_num = 0\n",
    "    with torch.no_grad():\n",
    "        for inputs, labels in loader:\n",
    "            # get data\n",
    "            inputs = inputs.to(device)\n",
    "            labels = labels.to(device)\n",
    "\n",
    "            outputs = gcn(inputs)\n",
    "            _, preds = torch.max(outputs, 1)\n",
    "            loss = criterion(outputs, labels)\n",
    "            correct_num += torch.sum(preds == labels.data)\n",
    "            \n",
    "    print('total_num:', total_num)\n",
    "    print('correct_num:', correct_num.item())\n",
    "    print('acc:', correct_num.item() / total_num)\n",
    "\n",
    "\n",
    "process_config('../test_gcn/config.json')"
   ]
  },
  {
   "cell_type": "code",
   "execution_count": 41,
   "metadata": {},
   "outputs": [],
   "source": [
    "# load train data\n",
    "train_x = pickle.load(open('./train_data/train_x.pickle', 'rb'))\n",
    "train_y = pickle.load(open('./train_data/train_y.pickle', 'rb'))\n",
    "val_x = pickle.load(open('./train_data/val_x.pickle', 'rb'))\n",
    "val_y = pickle.load(open('./train_data/val_y.pickle', 'rb'))\n",
    "\n",
    "# load test data\n",
    "normal_test = pickle.load(open('./test_data/normal_test.pickle', 'rb'))\n",
    "abnormal_test = pickle.load(open('./test_data/abnormal_test.pickle', 'rb'))\n",
    "apk_test = pickle.load(open('./test_data/apk_test.pickle', 'rb'))"
   ]
  },
  {
   "cell_type": "code",
   "execution_count": 52,
   "metadata": {},
   "outputs": [],
   "source": [
    "import importlib\n",
    "import model\n",
    "import  torch.utils.data as Data\n",
    "importlib.reload(model)\n",
    "\n",
    "MINIBATCH_SIZE = 32\n",
    "device = torch.device(\"cuda\" if torch.cuda.is_available() else \"cpu\")\n",
    "\n",
    "\n",
    "gcn = model.MyGCN(h=20, w=7, output_shape=2)\n",
    "gcn = gcn.to(device)\n",
    "criterion = torch.nn.CrossEntropyLoss()\n",
    "optimizer = torch.optim.SGD(gcn.parameters(), lr=0.001, momentum=0.9)\n",
    "exp_lr_scheduler = lr_scheduler.StepLR(optimizer, step_size=7, gamma=0.7)\n",
    "\n",
    "dataloader = {'train': Data.DataLoader(dataset=model.DataLoader(train_x, train_y),\n",
    "                                       batch_size=MINIBATCH_SIZE,\n",
    "                                       shuffle=True,\n",
    "                                       pin_memory=True,\n",
    "                                       num_workers=6\n",
    "                                      ),\n",
    "              'val': Data.DataLoader(dataset=model.DataLoader(val_x, val_y),\n",
    "                                     batch_size=MINIBATCH_SIZE,\n",
    "                                     shuffle=True,\n",
    "                                     pin_memory=True,\n",
    "                                     num_workers=2\n",
    "                                    ),\n",
    "             }"
   ]
  },
  {
   "cell_type": "code",
   "execution_count": 53,
   "metadata": {
    "scrolled": true
   },
   "outputs": [
    {
     "name": "stderr",
     "output_type": "stream",
     "text": [
      "\r",
      "  0%|                                                                                         | 0/3272 [00:00<?, ?it/s]"
     ]
    },
    {
     "name": "stdout",
     "output_type": "stream",
     "text": [
      "Epoch [ 0  /  30 ] : \n"
     ]
    },
    {
     "name": "stderr",
     "output_type": "stream",
     "text": [
      "100%|██████████████████████████████████████████████████████████████████████████████| 3272/3272 [00:34<00:00, 95.65it/s]\n",
      "  0%|                                                                                         | 0/1403 [00:00<?, ?it/s]"
     ]
    },
    {
     "name": "stdout",
     "output_type": "stream",
     "text": [
      "Training Loss: 0.017295454047542878\n",
      "Training Acc: 0.7495511155256723\n"
     ]
    },
    {
     "name": "stderr",
     "output_type": "stream",
     "text": [
      "100%|█████████████████████████████████████████████████████████████████████████████| 1403/1403 [00:06<00:00, 219.52it/s]\n",
      "  0%|                                                                                         | 0/3272 [00:00<?, ?it/s]"
     ]
    },
    {
     "name": "stdout",
     "output_type": "stream",
     "text": [
      "Validation Loss: 0.015001157330479508\n",
      "Validation Acc: 0.8316174176583322\n",
      "Epoch %d finish in 0m 41s\n",
      "Epoch [ 1  /  30 ] : \n"
     ]
    },
    {
     "name": "stderr",
     "output_type": "stream",
     "text": [
      "100%|██████████████████████████████████████████████████████████████████████████████| 3272/3272 [00:33<00:00, 97.41it/s]\n",
      "  0%|                                                                                         | 0/1403 [00:00<?, ?it/s]"
     ]
    },
    {
     "name": "stdout",
     "output_type": "stream",
     "text": [
      "Training Loss: 0.014474070321570416\n",
      "Training Acc: 0.8511518184596577\n"
     ]
    },
    {
     "name": "stderr",
     "output_type": "stream",
     "text": [
      "100%|█████████████████████████████████████████████████████████████████████████████| 1403/1403 [00:06<00:00, 217.99it/s]\n",
      "  0%|                                                                                         | 0/3272 [00:00<?, ?it/s]"
     ]
    },
    {
     "name": "stdout",
     "output_type": "stream",
     "text": [
      "Validation Loss: 0.013420856073508687\n",
      "Validation Acc: 0.8846548112492757\n",
      "Epoch %d finish in 1m 21s\n",
      "Epoch [ 2  /  30 ] : \n"
     ]
    },
    {
     "name": "stderr",
     "output_type": "stream",
     "text": [
      "100%|██████████████████████████████████████████████████████████████████████████████| 3272/3272 [00:33<00:00, 97.37it/s]\n",
      "  0%|                                                                                         | 0/1403 [00:00<?, ?it/s]"
     ]
    },
    {
     "name": "stdout",
     "output_type": "stream",
     "text": [
      "Training Loss: 0.013678687935738317\n",
      "Training Acc: 0.8758500152811736\n"
     ]
    },
    {
     "name": "stderr",
     "output_type": "stream",
     "text": [
      "100%|█████████████████████████████████████████████████████████████████████████████| 1403/1403 [00:06<00:00, 218.15it/s]\n",
      "  0%|                                                                                         | 0/3272 [00:00<?, ?it/s]"
     ]
    },
    {
     "name": "stdout",
     "output_type": "stream",
     "text": [
      "Validation Loss: 0.012930018811130893\n",
      "Validation Acc: 0.8986272674599991\n",
      "Epoch %d finish in 2m 1s\n",
      "Epoch [ 3  /  30 ] : \n"
     ]
    },
    {
     "name": "stderr",
     "output_type": "stream",
     "text": [
      "100%|██████████████████████████████████████████████████████████████████████████████| 3272/3272 [00:33<00:00, 96.35it/s]\n",
      "  0%|                                                                                         | 0/1403 [00:00<?, ?it/s]"
     ]
    },
    {
     "name": "stdout",
     "output_type": "stream",
     "text": [
      "Training Loss: 0.013334588268384665\n",
      "Training Acc: 0.8862698655256723\n"
     ]
    },
    {
     "name": "stderr",
     "output_type": "stream",
     "text": [
      "100%|█████████████████████████████████████████████████████████████████████████████| 1403/1403 [00:06<00:00, 221.19it/s]\n",
      "  0%|                                                                                         | 0/3272 [00:00<?, ?it/s]"
     ]
    },
    {
     "name": "stdout",
     "output_type": "stream",
     "text": [
      "Validation Loss: 0.012832298852274505\n",
      "Validation Acc: 0.9011899986629228\n",
      "Epoch %d finish in 2m 41s\n",
      "Epoch [ 4  /  30 ] : \n"
     ]
    },
    {
     "name": "stderr",
     "output_type": "stream",
     "text": [
      "100%|██████████████████████████████████████████████████████████████████████████████| 3272/3272 [00:33<00:00, 97.27it/s]\n",
      "  0%|                                                                                         | 0/1403 [00:00<?, ?it/s]"
     ]
    },
    {
     "name": "stdout",
     "output_type": "stream",
     "text": [
      "Training Loss: 0.013229923564735754\n",
      "Training Acc: 0.8887817084352079\n"
     ]
    },
    {
     "name": "stderr",
     "output_type": "stream",
     "text": [
      "100%|█████████████████████████████████████████████████████████████████████████████| 1403/1403 [00:06<00:00, 219.43it/s]\n",
      "  0%|                                                                                         | 0/3272 [00:00<?, ?it/s]"
     ]
    },
    {
     "name": "stdout",
     "output_type": "stream",
     "text": [
      "Validation Loss: 0.012743049428845203\n",
      "Validation Acc: 0.9039087221999376\n",
      "Epoch %d finish in 3m 21s\n",
      "Epoch [ 5  /  30 ] : \n"
     ]
    },
    {
     "name": "stderr",
     "output_type": "stream",
     "text": [
      "100%|██████████████████████████████████████████████████████████████████████████████| 3272/3272 [00:33<00:00, 97.76it/s]\n",
      "  0%|                                                                                         | 0/1403 [00:00<?, ?it/s]"
     ]
    },
    {
     "name": "stdout",
     "output_type": "stream",
     "text": [
      "Training Loss: 0.013156301794803649\n",
      "Training Acc: 0.8908351161369193\n"
     ]
    },
    {
     "name": "stderr",
     "output_type": "stream",
     "text": [
      "100%|█████████████████████████████████████████████████████████████████████████████| 1403/1403 [00:06<00:00, 219.93it/s]\n",
      "  0%|                                                                                         | 0/3272 [00:00<?, ?it/s]"
     ]
    },
    {
     "name": "stdout",
     "output_type": "stream",
     "text": [
      "Validation Loss: 0.012745331165417262\n",
      "Validation Acc: 0.9040647145340286\n",
      "Epoch %d finish in 4m 1s\n",
      "Epoch [ 6  /  30 ] : \n"
     ]
    },
    {
     "name": "stderr",
     "output_type": "stream",
     "text": [
      "100%|██████████████████████████████████████████████████████████████████████████████| 3272/3272 [00:33<00:00, 97.94it/s]\n",
      "  0%|                                                                                         | 0/1403 [00:00<?, ?it/s]"
     ]
    },
    {
     "name": "stdout",
     "output_type": "stream",
     "text": [
      "Training Loss: 0.013046429910375976\n",
      "Training Acc: 0.894559902200489\n"
     ]
    },
    {
     "name": "stderr",
     "output_type": "stream",
     "text": [
      "100%|█████████████████████████████████████████████████████████████████████████████| 1403/1403 [00:06<00:00, 220.27it/s]\n",
      "  0%|                                                                                         | 0/3272 [00:00<?, ?it/s]"
     ]
    },
    {
     "name": "stdout",
     "output_type": "stream",
     "text": [
      "Validation Loss: 0.012696232926469916\n",
      "Validation Acc: 0.9043989838213665\n",
      "Epoch %d finish in 4m 41s\n",
      "Epoch [ 7  /  30 ] : \n"
     ]
    },
    {
     "name": "stderr",
     "output_type": "stream",
     "text": [
      "100%|██████████████████████████████████████████████████████████████████████████████| 3272/3272 [00:34<00:00, 95.01it/s]\n",
      "  0%|                                                                                         | 0/1403 [00:00<?, ?it/s]"
     ]
    },
    {
     "name": "stdout",
     "output_type": "stream",
     "text": [
      "Training Loss: 0.012866232130041205\n",
      "Training Acc: 0.9000133710268948\n"
     ]
    },
    {
     "name": "stderr",
     "output_type": "stream",
     "text": [
      "100%|█████████████████████████████████████████████████████████████████████████████| 1403/1403 [00:06<00:00, 220.44it/s]\n",
      "  0%|                                                                                         | 0/3272 [00:00<?, ?it/s]"
     ]
    },
    {
     "name": "stdout",
     "output_type": "stream",
     "text": [
      "Validation Loss: 0.01243303859436284\n",
      "Validation Acc: 0.9133351161028658\n",
      "Epoch %d finish in 5m 21s\n",
      "Epoch [ 8  /  30 ] : \n"
     ]
    },
    {
     "name": "stderr",
     "output_type": "stream",
     "text": [
      "100%|██████████████████████████████████████████████████████████████████████████████| 3272/3272 [00:33<00:00, 97.62it/s]\n",
      "  0%|                                                                                         | 0/1403 [00:00<?, ?it/s]"
     ]
    },
    {
     "name": "stdout",
     "output_type": "stream",
     "text": [
      "Training Loss: 0.012822747383662897\n",
      "Training Acc: 0.9014268795843521\n"
     ]
    },
    {
     "name": "stderr",
     "output_type": "stream",
     "text": [
      "100%|█████████████████████████████████████████████████████████████████████████████| 1403/1403 [00:06<00:00, 209.73it/s]\n",
      "  0%|                                                                                         | 0/3272 [00:00<?, ?it/s]"
     ]
    },
    {
     "name": "stdout",
     "output_type": "stream",
     "text": [
      "Validation Loss: 0.012405013486323906\n",
      "Validation Acc: 0.9143824932031912\n",
      "Epoch %d finish in 6m 2s\n",
      "Epoch [ 9  /  30 ] : \n"
     ]
    },
    {
     "name": "stderr",
     "output_type": "stream",
     "text": [
      "100%|██████████████████████████████████████████████████████████████████████████████| 3272/3272 [00:33<00:00, 96.78it/s]\n",
      "  0%|                                                                                         | 0/1403 [00:00<?, ?it/s]"
     ]
    },
    {
     "name": "stdout",
     "output_type": "stream",
     "text": [
      "Training Loss: 0.012743672268911467\n",
      "Training Acc: 0.9043876069682152\n"
     ]
    },
    {
     "name": "stderr",
     "output_type": "stream",
     "text": [
      "100%|█████████████████████████████████████████████████████████████████████████████| 1403/1403 [00:07<00:00, 196.43it/s]\n",
      "  0%|                                                                                         | 0/3272 [00:00<?, ?it/s]"
     ]
    },
    {
     "name": "stdout",
     "output_type": "stream",
     "text": [
      "Validation Loss: 0.012250293528230857\n",
      "Validation Acc: 0.919931363373\n",
      "Epoch %d finish in 6m 43s\n",
      "Epoch [ 10  /  30 ] : \n"
     ]
    },
    {
     "name": "stderr",
     "output_type": "stream",
     "text": [
      "100%|██████████████████████████████████████████████████████████████████████████████| 3272/3272 [00:33<00:00, 97.04it/s]\n",
      "  0%|                                                                                         | 0/1403 [00:00<?, ?it/s]"
     ]
    },
    {
     "name": "stdout",
     "output_type": "stream",
     "text": [
      "Training Loss: 0.012706132798084493\n",
      "Training Acc: 0.9053331295843521\n"
     ]
    },
    {
     "name": "stderr",
     "output_type": "stream",
     "text": [
      "100%|█████████████████████████████████████████████████████████████████████████████| 1403/1403 [00:06<00:00, 217.84it/s]\n",
      "  0%|                                                                                         | 0/3272 [00:00<?, ?it/s]"
     ]
    },
    {
     "name": "stdout",
     "output_type": "stream",
     "text": [
      "Validation Loss: 0.012260957025517837\n",
      "Validation Acc: 0.9191959709408566\n",
      "Epoch %d finish in 7m 23s\n",
      "Epoch [ 11  /  30 ] : \n"
     ]
    },
    {
     "name": "stderr",
     "output_type": "stream",
     "text": [
      "100%|██████████████████████████████████████████████████████████████████████████████| 3272/3272 [00:33<00:00, 97.65it/s]\n",
      "  0%|                                                                                         | 0/1403 [00:00<?, ?it/s]"
     ]
    },
    {
     "name": "stdout",
     "output_type": "stream",
     "text": [
      "Training Loss: 0.012666659656807343\n",
      "Training Acc: 0.906335956601467\n"
     ]
    },
    {
     "name": "stderr",
     "output_type": "stream",
     "text": [
      "100%|█████████████████████████████████████████████████████████████████████████████| 1403/1403 [00:06<00:00, 220.56it/s]\n",
      "  0%|                                                                                         | 0/3272 [00:00<?, ?it/s]"
     ]
    },
    {
     "name": "stdout",
     "output_type": "stream",
     "text": [
      "Validation Loss: 0.012389452750337376\n",
      "Validation Acc: 0.9154744395418283\n",
      "Epoch %d finish in 8m 3s\n",
      "Epoch [ 12  /  30 ] : \n"
     ]
    },
    {
     "name": "stderr",
     "output_type": "stream",
     "text": [
      "100%|██████████████████████████████████████████████████████████████████████████████| 3272/3272 [00:33<00:00, 97.23it/s]\n",
      "  0%|                                                                                         | 0/1403 [00:00<?, ?it/s]"
     ]
    },
    {
     "name": "stdout",
     "output_type": "stream",
     "text": [
      "Training Loss: 0.012640810646185045\n",
      "Training Acc: 0.9073483343520783\n"
     ]
    },
    {
     "name": "stderr",
     "output_type": "stream",
     "text": [
      "100%|█████████████████████████████████████████████████████████████████████████████| 1403/1403 [00:06<00:00, 205.06it/s]\n",
      "  0%|                                                                                         | 0/3272 [00:00<?, ?it/s]"
     ]
    },
    {
     "name": "stdout",
     "output_type": "stream",
     "text": [
      "Validation Loss: 0.012136824173675892\n",
      "Validation Acc: 0.9240985871551455\n",
      "Epoch %d finish in 8m 43s\n",
      "Epoch [ 13  /  30 ] : \n"
     ]
    },
    {
     "name": "stderr",
     "output_type": "stream",
     "text": [
      "100%|██████████████████████████████████████████████████████████████████████████████| 3272/3272 [00:33<00:00, 96.65it/s]\n",
      "  0%|                                                                                         | 0/1403 [00:00<?, ?it/s]"
     ]
    },
    {
     "name": "stdout",
     "output_type": "stream",
     "text": [
      "Training Loss: 0.012587729537196932\n",
      "Training Acc: 0.9088955531784841\n"
     ]
    },
    {
     "name": "stderr",
     "output_type": "stream",
     "text": [
      "100%|█████████████████████████████████████████████████████████████████████████████| 1403/1403 [00:07<00:00, 197.57it/s]\n",
      "  0%|                                                                                         | 0/3272 [00:00<?, ?it/s]"
     ]
    },
    {
     "name": "stdout",
     "output_type": "stream",
     "text": [
      "Validation Loss: 0.012124619626550478\n",
      "Validation Acc: 0.9239648794402103\n",
      "Epoch %d finish in 9m 24s\n",
      "Epoch [ 14  /  30 ] : \n"
     ]
    },
    {
     "name": "stderr",
     "output_type": "stream",
     "text": [
      "100%|██████████████████████████████████████████████████████████████████████████████| 3272/3272 [00:33<00:00, 97.52it/s]\n",
      "  0%|                                                                                         | 0/1403 [00:00<?, ?it/s]"
     ]
    },
    {
     "name": "stdout",
     "output_type": "stream",
     "text": [
      "Training Loss: 0.012493298166149129\n",
      "Training Acc: 0.9124006723716381\n"
     ]
    },
    {
     "name": "stderr",
     "output_type": "stream",
     "text": [
      "100%|█████████████████████████████████████████████████████████████████████████████| 1403/1403 [00:06<00:00, 219.07it/s]\n",
      "  0%|                                                                                         | 0/3272 [00:00<?, ?it/s]"
     ]
    },
    {
     "name": "stdout",
     "output_type": "stream",
     "text": [
      "Validation Loss: 0.012019606407682128\n",
      "Validation Acc: 0.9274189954093685\n",
      "Epoch %d finish in 10m 4s\n",
      "Epoch [ 15  /  30 ] : \n"
     ]
    },
    {
     "name": "stderr",
     "output_type": "stream",
     "text": [
      "100%|██████████████████████████████████████████████████████████████████████████████| 3272/3272 [00:33<00:00, 97.04it/s]\n",
      "  0%|                                                                                         | 0/1403 [00:00<?, ?it/s]"
     ]
    },
    {
     "name": "stdout",
     "output_type": "stream",
     "text": [
      "Training Loss: 0.01247366896430873\n",
      "Training Acc: 0.913059672982885\n"
     ]
    },
    {
     "name": "stderr",
     "output_type": "stream",
     "text": [
      "100%|█████████████████████████████████████████████████████████████████████████████| 1403/1403 [00:06<00:00, 219.82it/s]\n",
      "  0%|                                                                                         | 0/3272 [00:00<?, ?it/s]"
     ]
    },
    {
     "name": "stdout",
     "output_type": "stream",
     "text": [
      "Validation Loss: 0.012121971054564251\n",
      "Validation Acc: 0.9236083255337166\n",
      "Epoch %d finish in 10m 44s\n",
      "Epoch [ 16  /  30 ] : \n"
     ]
    },
    {
     "name": "stderr",
     "output_type": "stream",
     "text": [
      "100%|██████████████████████████████████████████████████████████████████████████████| 3272/3272 [00:33<00:00, 97.63it/s]\n",
      "  0%|                                                                                         | 0/1403 [00:00<?, ?it/s]"
     ]
    },
    {
     "name": "stdout",
     "output_type": "stream",
     "text": [
      "Training Loss: 0.01245666149585829\n",
      "Training Acc: 0.9132220354523227\n"
     ]
    },
    {
     "name": "stderr",
     "output_type": "stream",
     "text": [
      "100%|█████████████████████████████████████████████████████████████████████████████| 1403/1403 [00:06<00:00, 211.29it/s]\n",
      "  0%|                                                                                         | 0/3272 [00:00<?, ?it/s]"
     ]
    },
    {
     "name": "stdout",
     "output_type": "stream",
     "text": [
      "Validation Loss: 0.012026043573834655\n",
      "Validation Acc: 0.9269510184070954\n",
      "Epoch %d finish in 11m 24s\n",
      "Epoch [ 17  /  30 ] : \n"
     ]
    },
    {
     "name": "stderr",
     "output_type": "stream",
     "text": [
      "100%|██████████████████████████████████████████████████████████████████████████████| 3272/3272 [00:33<00:00, 97.34it/s]\n",
      "  0%|                                                                                         | 0/1403 [00:00<?, ?it/s]"
     ]
    },
    {
     "name": "stdout",
     "output_type": "stream",
     "text": [
      "Training Loss: 0.012410989753881465\n",
      "Training Acc: 0.9150557762836186\n"
     ]
    },
    {
     "name": "stderr",
     "output_type": "stream",
     "text": [
      "100%|█████████████████████████████████████████████████████████████████████████████| 1403/1403 [00:07<00:00, 196.41it/s]\n",
      "  0%|                                                                                         | 0/3272 [00:00<?, ?it/s]"
     ]
    },
    {
     "name": "stdout",
     "output_type": "stream",
     "text": [
      "Validation Loss: 0.011978249522875342\n",
      "Validation Acc: 0.9287783571778758\n",
      "Epoch %d finish in 12m 5s\n",
      "Epoch [ 18  /  30 ] : \n"
     ]
    },
    {
     "name": "stderr",
     "output_type": "stream",
     "text": [
      "100%|██████████████████████████████████████████████████████████████████████████████| 3272/3272 [00:33<00:00, 97.73it/s]\n",
      "  0%|                                                                                         | 0/1403 [00:00<?, ?it/s]"
     ]
    },
    {
     "name": "stdout",
     "output_type": "stream",
     "text": [
      "Training Loss: 0.01236910356805275\n",
      "Training Acc: 0.9165265892420538\n"
     ]
    },
    {
     "name": "stderr",
     "output_type": "stream",
     "text": [
      "100%|█████████████████████████████████████████████████████████████████████████████| 1403/1403 [00:06<00:00, 219.91it/s]\n",
      "  0%|                                                                                         | 0/3272 [00:00<?, ?it/s]"
     ]
    },
    {
     "name": "stdout",
     "output_type": "stream",
     "text": [
      "Validation Loss: 0.012001018679152093\n",
      "Validation Acc: 0.9275972723626154\n",
      "Epoch %d finish in 12m 45s\n",
      "Epoch [ 19  /  30 ] : \n"
     ]
    },
    {
     "name": "stderr",
     "output_type": "stream",
     "text": [
      "100%|██████████████████████████████████████████████████████████████████████████████| 3272/3272 [00:33<00:00, 97.65it/s]\n",
      "  0%|                                                                                         | 0/1403 [00:00<?, ?it/s]"
     ]
    },
    {
     "name": "stdout",
     "output_type": "stream",
     "text": [
      "Training Loss: 0.012386446139003289\n",
      "Training Acc: 0.9159153422982885\n"
     ]
    },
    {
     "name": "stderr",
     "output_type": "stream",
     "text": [
      "100%|█████████████████████████████████████████████████████████████████████████████| 1403/1403 [00:06<00:00, 222.05it/s]\n",
      "  0%|                                                                                         | 0/3272 [00:00<?, ?it/s]"
     ]
    },
    {
     "name": "stdout",
     "output_type": "stream",
     "text": [
      "Validation Loss: 0.012094140785334556\n",
      "Validation Acc: 0.9240763025359897\n",
      "Epoch %d finish in 13m 25s\n",
      "Epoch [ 20  /  30 ] : \n"
     ]
    },
    {
     "name": "stderr",
     "output_type": "stream",
     "text": [
      "100%|██████████████████████████████████████████████████████████████████████████████| 3272/3272 [00:33<00:00, 97.62it/s]\n",
      "  0%|                                                                                         | 0/1403 [00:00<?, ?it/s]"
     ]
    },
    {
     "name": "stdout",
     "output_type": "stream",
     "text": [
      "Training Loss: 0.01236581072936513\n",
      "Training Acc: 0.9161445599022005\n"
     ]
    },
    {
     "name": "stderr",
     "output_type": "stream",
     "text": [
      "100%|█████████████████████████████████████████████████████████████████████████████| 1403/1403 [00:06<00:00, 209.19it/s]\n",
      "  0%|                                                                                         | 0/3272 [00:00<?, ?it/s]"
     ]
    },
    {
     "name": "stdout",
     "output_type": "stream",
     "text": [
      "Validation Loss: 0.012051638707405011\n",
      "Validation Acc: 0.9251905334937826\n",
      "Epoch %d finish in 14m 5s\n",
      "Epoch [ 21  /  30 ] : \n"
     ]
    },
    {
     "name": "stderr",
     "output_type": "stream",
     "text": [
      "100%|██████████████████████████████████████████████████████████████████████████████| 3272/3272 [00:33<00:00, 96.77it/s]\n",
      "  0%|                                                                                         | 0/1403 [00:00<?, ?it/s]"
     ]
    },
    {
     "name": "stdout",
     "output_type": "stream",
     "text": [
      "Training Loss: 0.012294381876558083\n",
      "Training Acc: 0.918197967603912\n"
     ]
    },
    {
     "name": "stderr",
     "output_type": "stream",
     "text": [
      "100%|█████████████████████████████████████████████████████████████████████████████| 1403/1403 [00:07<00:00, 193.28it/s]\n",
      "  0%|                                                                                         | 0/3272 [00:00<?, ?it/s]"
     ]
    },
    {
     "name": "stdout",
     "output_type": "stream",
     "text": [
      "Validation Loss: 0.011827192206712587\n",
      "Validation Acc: 0.9340598119178143\n",
      "Epoch %d finish in 14m 46s\n",
      "Epoch [ 22  /  30 ] : \n"
     ]
    },
    {
     "name": "stderr",
     "output_type": "stream",
     "text": [
      "100%|██████████████████████████████████████████████████████████████████████████████| 3272/3272 [00:33<00:00, 97.37it/s]\n",
      "  0%|                                                                                         | 0/1403 [00:00<?, ?it/s]"
     ]
    },
    {
     "name": "stdout",
     "output_type": "stream",
     "text": [
      "Training Loss: 0.012298402012710648\n",
      "Training Acc: 0.918169315403423\n"
     ]
    },
    {
     "name": "stderr",
     "output_type": "stream",
     "text": [
      "100%|█████████████████████████████████████████████████████████████████████████████| 1403/1403 [00:06<00:00, 218.71it/s]\n",
      "  0%|                                                                                         | 0/3272 [00:00<?, ?it/s]"
     ]
    },
    {
     "name": "stdout",
     "output_type": "stream",
     "text": [
      "Validation Loss: 0.011909908047094114\n",
      "Validation Acc: 0.9310513883317734\n",
      "Epoch %d finish in 15m 26s\n",
      "Epoch [ 23  /  30 ] : \n"
     ]
    },
    {
     "name": "stderr",
     "output_type": "stream",
     "text": [
      "100%|██████████████████████████████████████████████████████████████████████████████| 3272/3272 [00:33<00:00, 97.16it/s]\n",
      "  0%|                                                                                         | 0/1403 [00:00<?, ?it/s]"
     ]
    },
    {
     "name": "stdout",
     "output_type": "stream",
     "text": [
      "Training Loss: 0.012280624194189104\n",
      "Training Acc: 0.9186086491442543\n"
     ]
    },
    {
     "name": "stderr",
     "output_type": "stream",
     "text": [
      "100%|█████████████████████████████████████████████████████████████████████████████| 1403/1403 [00:06<00:00, 220.80it/s]\n",
      "  0%|                                                                                         | 0/3272 [00:00<?, ?it/s]"
     ]
    },
    {
     "name": "stdout",
     "output_type": "stream",
     "text": [
      "Validation Loss: 0.011936870461325915\n",
      "Validation Acc: 0.9299371573739805\n",
      "Epoch %d finish in 16m 6s\n",
      "Epoch [ 24  /  30 ] : \n"
     ]
    },
    {
     "name": "stderr",
     "output_type": "stream",
     "text": [
      "100%|██████████████████████████████████████████████████████████████████████████████| 3272/3272 [00:34<00:00, 96.05it/s]\n",
      "  0%|                                                                                         | 0/1403 [00:00<?, ?it/s]"
     ]
    },
    {
     "name": "stdout",
     "output_type": "stream",
     "text": [
      "Training Loss: 0.012265079990621373\n",
      "Training Acc: 0.9194109107579462\n"
     ]
    },
    {
     "name": "stderr",
     "output_type": "stream",
     "text": [
      "100%|█████████████████████████████████████████████████████████████████████████████| 1403/1403 [00:06<00:00, 222.16it/s]\n",
      "  0%|                                                                                         | 0/3272 [00:00<?, ?it/s]"
     ]
    },
    {
     "name": "stdout",
     "output_type": "stream",
     "text": [
      "Validation Loss: 0.011806583489018785\n",
      "Validation Acc: 0.9349289120648928\n",
      "Epoch %d finish in 16m 47s\n",
      "Epoch [ 25  /  30 ] : \n"
     ]
    },
    {
     "name": "stderr",
     "output_type": "stream",
     "text": [
      "100%|██████████████████████████████████████████████████████████████████████████████| 3272/3272 [00:33<00:00, 97.58it/s]\n",
      "  0%|                                                                                         | 0/1403 [00:00<?, ?it/s]"
     ]
    },
    {
     "name": "stdout",
     "output_type": "stream",
     "text": [
      "Training Loss: 0.012244063292910097\n",
      "Training Acc: 0.9202704767726161\n"
     ]
    },
    {
     "name": "stderr",
     "output_type": "stream",
     "text": [
      "100%|█████████████████████████████████████████████████████████████████████████████| 1403/1403 [00:06<00:00, 221.29it/s]\n",
      "  0%|                                                                                         | 0/3272 [00:00<?, ?it/s]"
     ]
    },
    {
     "name": "stdout",
     "output_type": "stream",
     "text": [
      "Validation Loss: 0.011800745845388249\n",
      "Validation Acc: 0.9343495119668405\n",
      "Epoch %d finish in 17m 26s\n",
      "Epoch [ 26  /  30 ] : \n"
     ]
    },
    {
     "name": "stderr",
     "output_type": "stream",
     "text": [
      "100%|██████████████████████████████████████████████████████████████████████████████| 3272/3272 [00:33<00:00, 97.19it/s]\n",
      "  0%|                                                                                         | 0/1403 [00:00<?, ?it/s]"
     ]
    },
    {
     "name": "stdout",
     "output_type": "stream",
     "text": [
      "Training Loss: 0.012224831655655684\n",
      "Training Acc: 0.92072891198044\n"
     ]
    },
    {
     "name": "stderr",
     "output_type": "stream",
     "text": [
      "100%|█████████████████████████████████████████████████████████████████████████████| 1403/1403 [00:06<00:00, 219.55it/s]\n",
      "  0%|                                                                                         | 0/3272 [00:00<?, ?it/s]"
     ]
    },
    {
     "name": "stdout",
     "output_type": "stream",
     "text": [
      "Validation Loss: 0.011804927053970944\n",
      "Validation Acc: 0.9347506351116459\n",
      "Epoch %d finish in 18m 7s\n",
      "Epoch [ 27  /  30 ] : \n"
     ]
    },
    {
     "name": "stderr",
     "output_type": "stream",
     "text": [
      "100%|██████████████████████████████████████████████████████████████████████████████| 3272/3272 [00:33<00:00, 98.08it/s]\n",
      "  0%|                                                                                         | 0/1403 [00:00<?, ?it/s]"
     ]
    },
    {
     "name": "stdout",
     "output_type": "stream",
     "text": [
      "Training Loss: 0.012210714641883332\n",
      "Training Acc: 0.921416564792176\n"
     ]
    },
    {
     "name": "stderr",
     "output_type": "stream",
     "text": [
      "100%|█████████████████████████████████████████████████████████████████████████████| 1403/1403 [00:06<00:00, 220.89it/s]\n",
      "  0%|                                                                                         | 0/3272 [00:00<?, ?it/s]"
     ]
    },
    {
     "name": "stdout",
     "output_type": "stream",
     "text": [
      "Validation Loss: 0.011761630838523125\n",
      "Validation Acc: 0.9362214199759326\n",
      "Epoch %d finish in 18m 46s\n",
      "Epoch [ 28  /  30 ] : \n"
     ]
    },
    {
     "name": "stderr",
     "output_type": "stream",
     "text": [
      "100%|██████████████████████████████████████████████████████████████████████████████| 3272/3272 [00:33<00:00, 96.63it/s]\n",
      "  0%|                                                                                         | 0/1403 [00:00<?, ?it/s]"
     ]
    },
    {
     "name": "stdout",
     "output_type": "stream",
     "text": [
      "Training Loss: 0.012175158487375562\n",
      "Training Acc: 0.922276130806846\n"
     ]
    },
    {
     "name": "stderr",
     "output_type": "stream",
     "text": [
      "100%|█████████████████████████████████████████████████████████████████████████████| 1403/1403 [00:06<00:00, 220.95it/s]\n",
      "  0%|                                                                                         | 0/3272 [00:00<?, ?it/s]"
     ]
    },
    {
     "name": "stdout",
     "output_type": "stream",
     "text": [
      "Validation Loss: 0.011779418118939275\n",
      "Validation Acc: 0.9350849043989838\n",
      "Epoch %d finish in 19m 26s\n",
      "Epoch [ 29  /  30 ] : \n"
     ]
    },
    {
     "name": "stderr",
     "output_type": "stream",
     "text": [
      "100%|██████████████████████████████████████████████████████████████████████████████| 3272/3272 [00:33<00:00, 97.25it/s]\n",
      "  0%|                                                                                         | 0/1403 [00:00<?, ?it/s]"
     ]
    },
    {
     "name": "stdout",
     "output_type": "stream",
     "text": [
      "Training Loss: 0.012148069112201865\n",
      "Training Acc: 0.9232025519559902\n"
     ]
    },
    {
     "name": "stderr",
     "output_type": "stream",
     "text": [
      "100%|█████████████████████████████████████████████████████████████████████████████| 1403/1403 [00:06<00:00, 219.58it/s]"
     ]
    },
    {
     "name": "stdout",
     "output_type": "stream",
     "text": [
      "Validation Loss: 0.011765871656399527\n",
      "Validation Acc: 0.9367116815973615\n",
      "Epoch %d finish in 20m 6s\n",
      "結束訓練\n",
      "Training complete in 20m 6s\n"
     ]
    },
    {
     "name": "stderr",
     "output_type": "stream",
     "text": [
      "\n"
     ]
    }
   ],
   "source": [
    "from torch.autograd import Variable\n",
    "debug = False\n",
    "since = time.time()\n",
    "EPOCH = 30\n",
    "\n",
    "train_len = float(len(train_x))\n",
    "val_len = float(len(val_x))\n",
    "\n",
    "for epoch in range(EPOCH): \n",
    "    print('Epoch [', epoch,' / ',EPOCH,'] : ')\n",
    "    \n",
    "    for mode in ['train', 'val']:\n",
    "        if(mode == 'train'):\n",
    "            gcn.train()\n",
    "        else:\n",
    "            gcn.eval()\n",
    "\n",
    "        running_loss = 0.0\n",
    "        running_corrects = 0\n",
    "        \n",
    "        for inputs, labels in tqdm(dataloader[mode]):\n",
    "            # get data\n",
    "            inputs = inputs.to(device)\n",
    "            labels = labels.to(device)\n",
    "            optimizer.zero_grad()\n",
    "            \n",
    "            with torch.set_grad_enabled(mode == 'train'):\n",
    "                outputs = gcn(inputs)\n",
    "                _, preds = torch.max(outputs, 1)\n",
    "                loss = criterion(outputs, labels)\n",
    "\n",
    "                # backward + optimize only if in training phase\n",
    "                if mode == 'train':\n",
    "                    loss.backward()\n",
    "                    optimizer.step()\n",
    "                    \n",
    "            running_loss += loss.item()\n",
    "            running_corrects += torch.sum(preds == labels.data)\n",
    "            if debug: break\n",
    "                \n",
    "        if mode == 'train':\n",
    "            exp_lr_scheduler.step()\n",
    "            print('Training Loss:', running_loss / train_len)\n",
    "            print('Training Acc:', running_corrects.item() / train_len)\n",
    "        else:\n",
    "            print('Validation Loss:', running_loss / val_len)\n",
    "            print('Validation Acc:', running_corrects.item() / val_len)    \n",
    "\n",
    "    time_elapsed = time.time() - since\n",
    "    print('Epoch %d finish in {:.0f}m {:.0f}s'.format(time_elapsed // 60, time_elapsed % 60))\n",
    "\n",
    "        \n",
    "\n",
    "print('結束訓練')\n",
    "time_elapsed = time.time() - since\n",
    "print('Training complete in {:.0f}m {:.0f}s'.format(time_elapsed // 60, time_elapsed % 60))"
   ]
  },
  {
   "cell_type": "code",
   "execution_count": 55,
   "metadata": {},
   "outputs": [
    {
     "name": "stdout",
     "output_type": "stream",
     "text": [
      "total_num: 40000.0\n",
      "correct_num: 35917\n",
      "acc: 0.897925\n"
     ]
    }
   ],
   "source": [
    "test(normal_test, 0, gcn)"
   ]
  },
  {
   "cell_type": "code",
   "execution_count": 56,
   "metadata": {},
   "outputs": [
    {
     "name": "stdout",
     "output_type": "stream",
     "text": [
      "total_num: 40000.0\n",
      "correct_num: 37567\n",
      "acc: 0.939175\n"
     ]
    }
   ],
   "source": [
    "test(abnormal_test, 1, gcn)"
   ]
  },
  {
   "cell_type": "code",
   "execution_count": 57,
   "metadata": {
    "scrolled": false
   },
   "outputs": [
    {
     "name": "stdout",
     "output_type": "stream",
     "text": [
      "total_num: 40000.0\n",
      "correct_num: 36826\n",
      "acc: 0.92065\n"
     ]
    }
   ],
   "source": [
    "test(apk_test, 1, gcn)"
   ]
  },
  {
   "cell_type": "code",
   "execution_count": 49,
   "metadata": {},
   "outputs": [],
   "source": [
    "torch.save(gcn.state_dict(), './my_gcn8.pt')"
   ]
  },
  {
   "cell_type": "code",
   "execution_count": 62,
   "metadata": {},
   "outputs": [],
   "source": [
    "normal_loader = build_loader('../test_data/normal.pickle', 0)\n",
    "abnormal_loader = build_loader('../test_data/abnormal.pickle', 1)\n",
    "accelerate_loader = build_loader('../test_data/accelerate.pickle', 1)"
   ]
  },
  {
   "cell_type": "code",
   "execution_count": 67,
   "metadata": {},
   "outputs": [
    {
     "name": "stdout",
     "output_type": "stream",
     "text": [
      "total_num: 329\n",
      "correct_num: 316\n",
      "acc: 0.9604863221884499\n"
     ]
    }
   ],
   "source": [
    "test_new(normal_loader, gcn)"
   ]
  },
  {
   "cell_type": "code",
   "execution_count": 68,
   "metadata": {},
   "outputs": [
    {
     "name": "stdout",
     "output_type": "stream",
     "text": [
      "total_num: 499\n",
      "correct_num: 453\n",
      "acc: 0.9078156312625251\n"
     ]
    }
   ],
   "source": [
    "test_new(abnormal_loader, gcn)"
   ]
  },
  {
   "cell_type": "code",
   "execution_count": 69,
   "metadata": {},
   "outputs": [
    {
     "name": "stdout",
     "output_type": "stream",
     "text": [
      "total_num: 6\n",
      "correct_num: 3\n",
      "acc: 0.5\n"
     ]
    }
   ],
   "source": [
    "test_new(accelerate_loader, gcn)"
   ]
  },
  {
   "cell_type": "code",
   "execution_count": null,
   "metadata": {},
   "outputs": [],
   "source": []
  }
 ],
 "metadata": {
  "kernelspec": {
   "display_name": "Python 3",
   "language": "python",
   "name": "python3"
  },
  "language_info": {
   "codemirror_mode": {
    "name": "ipython",
    "version": 3
   },
   "file_extension": ".py",
   "mimetype": "text/x-python",
   "name": "python",
   "nbconvert_exporter": "python",
   "pygments_lexer": "ipython3",
   "version": "3.5.6"
  }
 },
 "nbformat": 4,
 "nbformat_minor": 4
}
